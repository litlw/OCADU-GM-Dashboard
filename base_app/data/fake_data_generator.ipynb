{
 "cells": [
  {
   "cell_type": "code",
   "execution_count": 21,
   "metadata": {},
   "outputs": [],
   "source": [
    "# this will be how I create a fake json file of data to use.\n",
    "# the tastes will have a random population between 10 and 200. \n",
    "# taste scores are limited to 0.01 and 0.99. \n",
    "# see the readme for data structure rules. \n",
    "\n",
    "# Imports go here. \n",
    "import uuid\n",
    "import math\n",
    "import random\n",
    "import json\n",
    "# This will be the eventual output\n",
    "output = {\n",
    "    'title' : 'Fake GM Data',\n",
    "    'data' : []\n",
    "}\n",
    "tastes = []\n",
    "filename = \"fake_GM_data\"\n",
    "\n",
    "# This is the base list of tastes, from the Globe and Mail webpage. \n",
    "parent_tastes = ['Canada', 'World', 'Business', 'Investing', 'Opinion', 'Politics'\n",
    "         , 'Sports', 'Life', 'Arts', 'Drive']\n",
    "child_tastes = ['Home', 'First', 'Second', 'Third', 'Special', 'Alternative', 'Trending']\n",
    "\n",
    "    ###########\n",
    "    #  STEP 1 #\n",
    "    ###########\n",
    "    \n",
    "#generate a list of tastes. \n",
    "for a in parent_tastes:\n",
    "    tastes.append(a)\n",
    "    for b in child_tastes: \n",
    "        tastes.append(a+'_'+b)\n",
    "        \n",
    "\n",
    "    ##########\n",
    "    # STEP 2 #\n",
    "    ##########\n",
    "\n",
    "# Build your numbers\n",
    "\n",
    "# using taste_count as a taste id. \n",
    "taste_count = 1\n",
    "\n",
    "# iterating through the pre-built taste list\n",
    "for a in tastes: \n",
    "    taste_count += 1\n",
    "    \n",
    "    # create a template for the output\n",
    "    output_container = {\n",
    "        'taste_id' : taste_count,\n",
    "        'taste'    : a ,\n",
    "        # the values ones is important. \n",
    "        'values'  : []\n",
    "    }\n",
    "    \n",
    "    # define how many users went to that page. \n",
    "    count = math.floor(random.randint(10, 200))\n",
    "    for b in range(0, count):\n",
    "        \n",
    "        #create a template for each user\n",
    "        values_container = {\n",
    "            'user_id' : str(uuid.uuid4()),\n",
    "            'score' : round(random.random(), 2)\n",
    "        }\n",
    "        \n",
    "        # dump the users into the output\n",
    "        output_container['values'].append(values_container)\n",
    "    output['data'].append(output_container)\n",
    "    \n",
    "    ##########\n",
    "    # STEP 3 #\n",
    "    ##########\n",
    "    \n",
    "# write your data to a JSON file. \n",
    "\n",
    "with open(filename+'.json', 'w') as outfile:\n",
    "    json.dump(output, outfile)\n",
    "        \n",
    "    \n",
    "\n",
    "    \n",
    "    #############\n",
    "    # end notes #\n",
    "    #############\n",
    "    \n",
    "# and that's it.        \n",
    "        \n",
    "    \n",
    "    "
   ]
  },
  {
   "cell_type": "code",
   "execution_count": 17,
   "metadata": {},
   "outputs": [
    {
     "name": "stdout",
     "output_type": "stream",
     "text": [
      "0.09\n"
     ]
    }
   ],
   "source": [
    "print(round(random.random(), 2))"
   ]
  },
  {
   "cell_type": "code",
   "execution_count": null,
   "metadata": {
    "collapsed": true
   },
   "outputs": [],
   "source": []
  }
 ],
 "metadata": {
  "kernelspec": {
   "display_name": "Python 3",
   "language": "python",
   "name": "python3"
  },
  "language_info": {
   "codemirror_mode": {
    "name": "ipython",
    "version": 3
   },
   "file_extension": ".py",
   "mimetype": "text/x-python",
   "name": "python",
   "nbconvert_exporter": "python",
   "pygments_lexer": "ipython3",
   "version": "3.6.2"
  }
 },
 "nbformat": 4,
 "nbformat_minor": 2
}
