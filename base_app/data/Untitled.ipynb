{
 "cells": [
  {
   "cell_type": "code",
   "execution_count": null,
   "metadata": {
    "collapsed": true
   },
   "outputs": [],
   "source": []
  },
  {
   "cell_type": "code",
   "execution_count": 50,
   "metadata": {
    "scrolled": false
   },
   "outputs": [
    {
     "name": "stdout",
     "output_type": "stream",
     "text": [
      "['\\ufeffarts_and_entertainment\\r']\n",
      "['automotive\\r']\n",
      "['business\\r']\n",
      "['careers\\r']\n",
      "['education\\r']\n",
      "['family_and_parenting\\r']\n",
      "['food_and_drink\\r']\n",
      "['health_and_fitness\\r']\n",
      "['hobbies_and_interests\\r']\n",
      "['home_and_garden\\r']\n",
      "['law_and_government_and_politics\\r']\n",
      "['news\\r']\n",
      "['personal_finance\\r']\n",
      "['pets\\r']\n",
      "['real_estate\\r']\n",
      "['science\\r']\n",
      "['shopping\\r']\n",
      "['social_media\\r']\n",
      "['society\\r']\n",
      "['sports\\r']\n",
      "['style_and_fashion\\r']\n",
      "['technology_and_computing\\r']\n",
      "['travel\\r']\n"
     ]
    }
   ],
   "source": [
    "# This is the taste thing... im too lazy to find them all. \n",
    "import csv \n",
    "\n",
    "\n",
    "\n",
    "\n",
    "with open('pagesList.csv', newline='') as openfile:\n",
    "    for row in openfile:\n",
    "        wanted = row.split('/')\n",
    "        if len(wanted) is 1:\n",
    "            print(wanted)"
   ]
  },
  {
   "cell_type": "code",
   "execution_count": null,
   "metadata": {
    "collapsed": true
   },
   "outputs": [],
   "source": []
  },
  {
   "cell_type": "code",
   "execution_count": null,
   "metadata": {
    "collapsed": true
   },
   "outputs": [],
   "source": []
  }
 ],
 "metadata": {
  "kernelspec": {
   "display_name": "Python 3",
   "language": "python",
   "name": "python3"
  },
  "language_info": {
   "codemirror_mode": {
    "name": "ipython",
    "version": 3
   },
   "file_extension": ".py",
   "mimetype": "text/x-python",
   "name": "python",
   "nbconvert_exporter": "python",
   "pygments_lexer": "ipython3",
   "version": "3.6.2"
  }
 },
 "nbformat": 4,
 "nbformat_minor": 2
}
